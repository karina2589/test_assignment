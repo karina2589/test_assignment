{
 "cells": [
  {
   "cell_type": "code",
   "execution_count": 14,
   "id": "81cf2813-6766-4353-8908-8dec6e0cd90a",
   "metadata": {},
   "outputs": [],
   "source": [
    "import sqlite3\n",
    "\n",
    "connection = sqlite3.connect(\"identifier.sqlite\")"
   ]
  },
  {
   "cell_type": "markdown",
   "id": "5afe8506-c877-453f-a62a-b47aedf28185",
   "metadata": {},
   "source": [
    "## Define data"
   ]
  },
  {
   "cell_type": "code",
   "execution_count": 15,
   "id": "4fa3bba8-864c-4281-bcd3-d980e5ccd862",
   "metadata": {},
   "outputs": [],
   "source": [
    "cursor = connection.cursor()"
   ]
  },
  {
   "cell_type": "markdown",
   "id": "a4938b00-2904-441f-b200-0a557b2a743a",
   "metadata": {},
   "source": [
    "## Queries "
   ]
  },
  {
   "cell_type": "code",
   "execution_count": 16,
   "id": "b0908fa1-9858-4b2b-a55a-358d67237e3f",
   "metadata": {},
   "outputs": [
    {
     "name": "stdout",
     "output_type": "stream",
     "text": [
      "[(1, 'John Doe', 'john@example.com', 'North', '2021-01-15'), (2, 'Jane Smith', 'jane@example.com', 'West', '2021-03-22'), (3, 'Alice Johnson', 'alice@example.com', 'East', '2021-05-10'), (4, 'Bob Williams', 'bob@example.com', 'North', '2021-07-05'), (5, 'Carol Lee', 'carol@example.com', 'South', '2021-09-01')]\n"
     ]
    }
   ],
   "source": [
    "##checking connection\n",
    "cursor.execute(\"select * from customers\")\n",
    "print(cursor.fetchall())"
   ]
  },
  {
   "cell_type": "markdown",
   "id": "78f91bea-8554-41cd-a896-5924ce0583ef",
   "metadata": {},
   "source": [
    "### Retrieve the total number of orders placed by each customer using a JOIN between customers and orders tables.\n",
    "for getting the number of orders for each customer i used left join for merging nessecary columns and for counting the exact number of orders i used aggregation COUNT for counting num of customer_id appearance in orders table"
   ]
  },
  {
   "cell_type": "code",
   "execution_count": 17,
   "id": "145725ed-4c33-4529-a9c3-164bf21722fc",
   "metadata": {},
   "outputs": [
    {
     "name": "stdout",
     "output_type": "stream",
     "text": [
      "Alice Johnson -- 1\n",
      "Bob Williams -- 1\n",
      "Carol Lee -- 0\n",
      "Jane Smith -- 1\n",
      "John Doe -- 2\n"
     ]
    }
   ],
   "source": [
    "cursor.execute(\"select customers.name, count(orders.order_id) from customers left join  orders on customers.customer_id = orders.customer_id group by customers.name\")\n",
    "\n",
    "for customer in cursor.fetchall():\n",
    "    print(f\"{customer[0]} -- {customer[1]}\")\n",
    "               "
   ]
  },
  {
   "cell_type": "markdown",
   "id": "da16c4b7-fe83-4e4c-a9f9-b7a4a1d604f6",
   "metadata": {},
   "source": [
    "### Find the total sales for each product by joining the order_items and products tables.\n",
    "for finding total sales for each product i used left join for merging product name with the total sale for each\n",
    "total amount of sales per product was calculated by : num of order for specific product * price for product"
   ]
  },
  {
   "cell_type": "code",
   "execution_count": 18,
   "id": "026ac091-7323-44e3-99e6-32f9d898eaab",
   "metadata": {},
   "outputs": [
    {
     "name": "stdout",
     "output_type": "stream",
     "text": [
      "Coffee Maker -- 85\n",
      "Headphones -- 300\n",
      "Laptop -- 3600\n",
      "Smartphone -- 800\n",
      "Vacuum Cleaner -- 0\n"
     ]
    }
   ],
   "source": [
    "cursor.execute(\"select products.product_name, count(order_items.product_id)*products.price from products left join order_items on products.product_id = order_items.product_id group by products.product_name, products.price\")\n",
    "\n",
    "for product in cursor.fetchall():\n",
    "    print(f\"{product[0]} -- {product[1]}\")"
   ]
  },
  {
   "cell_type": "markdown",
   "id": "1fa1c559-966a-4ba7-9863-ad33b9441629",
   "metadata": {},
   "source": [
    "### List all customers who have made at least 2 purchases."
   ]
  },
  {
   "cell_type": "code",
   "execution_count": 19,
   "id": "d5eea996-d937-460c-ae59-b8a3232d0b7d",
   "metadata": {},
   "outputs": [
    {
     "name": "stdout",
     "output_type": "stream",
     "text": [
      "John Doe -- 2 orders\n"
     ]
    }
   ],
   "source": [
    "cursor.execute(\"select customers.name, count(orders.customer_id) as c from customers left join orders on customers.customer_id = orders.customer_id group by customers.name having c > 1\")\n",
    "\n",
    "for customer in cursor.fetchall():\n",
    "    print(f\"{customer[0]} -- {customer[1]} orders\")"
   ]
  },
  {
   "cell_type": "markdown",
   "id": "bc21acb5-0462-4bfc-853d-ef97b8fc8554",
   "metadata": {},
   "source": [
    "### Display all orders placed in the last 6 months.\n",
    "for getting orders that was places in the last 6 month i used date() function that identifies current date and substracts 6 months from it "
   ]
  },
  {
   "cell_type": "code",
   "execution_count": 20,
   "id": "9afec16e-c065-4cef-85ff-e186c2ed9070",
   "metadata": {},
   "outputs": [
    {
     "name": "stdout",
     "output_type": "stream",
     "text": [
      "no orders for the last 6 month\n"
     ]
    }
   ],
   "source": [
    "cursor.execute(\"select order_id, order_date from orders where date(order_date) >= date('now', '-6 months')\")\n",
    "orders = cursor.fetchall()\n",
    "if len(orders)>0:\n",
    "    for order in orders:\n",
    "        print(f\"{order[0]} -- {order[1]}\")\n",
    "else:\n",
    "    print(\"no orders for the last 6 month\")"
   ]
  },
  {
   "cell_type": "code",
   "execution_count": 22,
   "id": "1beaa9b6-aca1-4e8f-8979-79f8d483f9aa",
   "metadata": {},
   "outputs": [],
   "source": [
    "connection.close()"
   ]
  },
  {
   "cell_type": "markdown",
   "id": "e5b30905-1c72-48a1-a8c5-2832ec7b34dc",
   "metadata": {},
   "source": [
    "### Finish :)"
   ]
  }
 ],
 "metadata": {
  "kernelspec": {
   "display_name": "Python 3 (ipykernel)",
   "language": "python",
   "name": "python3"
  },
  "language_info": {
   "codemirror_mode": {
    "name": "ipython",
    "version": 3
   },
   "file_extension": ".py",
   "mimetype": "text/x-python",
   "name": "python",
   "nbconvert_exporter": "python",
   "pygments_lexer": "ipython3",
   "version": "3.9.19"
  }
 },
 "nbformat": 4,
 "nbformat_minor": 5
}
